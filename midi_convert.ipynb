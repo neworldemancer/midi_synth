{
 "cells": [
  {
   "cell_type": "code",
   "execution_count": 1,
   "metadata": {},
   "outputs": [],
   "source": [
    "import mido\n",
    "import glob\n",
    "import matplotlib.pyplot as plt\n",
    "import numpy as np\n",
    "import os"
   ]
  },
  {
   "cell_type": "markdown",
   "metadata": {
    "heading_collapsed": true
   },
   "source": [
    "## select files"
   ]
  },
  {
   "cell_type": "code",
   "execution_count": 2,
   "metadata": {
    "hidden": true
   },
   "outputs": [],
   "source": [
    "#all_files = glob.glob(r'd:\\Program Files\\samples\\Midi\\0-9Other\\CLASSIC\\*.mid', recursive=True)\n",
    "all_files = glob.glob(r'd:\\Program Files\\samples\\Midi\\**\\*.mid', recursive=True)"
   ]
  },
  {
   "cell_type": "code",
   "execution_count": 3,
   "metadata": {
    "code_folding": [
     0
    ],
    "hidden": true
   },
   "outputs": [],
   "source": [
    "# selected range of max time delays and bpm\n",
    "tempos = []\n",
    "timesteps = []\n",
    "sel_files = []\n",
    "\n",
    "n_under_thres = 0\n",
    "thres_dt = 256\n",
    "for f in all_files:\n",
    "    try:\n",
    "        mid = mido.MidiFile(f)\n",
    "    except:\n",
    "        pass\n",
    "    tpb = mid.ticks_per_beat\n",
    "    \n",
    "    if not (70 <= tpb <= 120):\n",
    "        continue\n",
    "    \n",
    "    under = True\n",
    "    for i, track in enumerate(mid.tracks):\n",
    "        for msg in track:\n",
    "            if msg.type in ['note_on', 'note_off']:\n",
    "                timesteps.append(msg.time)\n",
    "                if msg.time>=thres_dt:\n",
    "                    under = False\n",
    "    if under:\n",
    "        n_under_thres += 1\n",
    "        sel_files.append(f)\n",
    "                \n",
    "    \n",
    "    tempos.append(tpb)"
   ]
  },
  {
   "cell_type": "code",
   "execution_count": 4,
   "metadata": {
    "hidden": true
   },
   "outputs": [
    {
     "data": {
      "image/png": "[encoded data removed]",
      "text/plain": [
       "<Figure size 432x288 with 1 Axes>"
      ]
     },
     "metadata": {
      "needs_background": "light"
     },
     "output_type": "display_data"
    }
   ],
   "source": [
    "plt.hist(tempos, 100);"
   ]
  },
  {
   "cell_type": "code",
   "execution_count": 5,
   "metadata": {
    "hidden": true
   },
   "outputs": [
    {
     "data": {
      "image/png": "[encoded data removed]",
      "text/plain": [
       "<Figure size 432x288 with 1 Axes>"
      ]
     },
     "metadata": {
      "needs_background": "light"
     },
     "output_type": "display_data"
    }
   ],
   "source": [
    "plt.hist(timesteps, 100, log=1);"
   ]
  },
  {
   "cell_type": "code",
   "execution_count": 6,
   "metadata": {
    "hidden": true
   },
   "outputs": [
    {
     "name": "stdout",
     "output_type": "stream",
     "text": [
      "selected files fraction: 14.9%\n"
     ]
    }
   ],
   "source": [
    "print(f'selected files fraction: {n_under_thres/len(all_files)*100:.1f}%')"
   ]
  },
  {
   "cell_type": "code",
   "execution_count": 7,
   "metadata": {
    "code_folding": [
     0
    ],
    "hidden": true
   },
   "outputs": [],
   "source": [
    "# analyse selected:\n",
    "tempos = []\n",
    "timesteps = []\n",
    "\n",
    "n_under_thres = 0\n",
    "thres_dt = 256\n",
    "for f in sel_files:\n",
    "    try:\n",
    "        mid = mido.MidiFile(f)\n",
    "    except:\n",
    "        pass\n",
    "    tpb = mid.ticks_per_beat\n",
    "    \n",
    "    if not (70 <= tpb <= 120):\n",
    "        continue\n",
    "    \n",
    "    under = True\n",
    "    for i, track in enumerate(mid.tracks):\n",
    "        for msg in track:\n",
    "            if msg.type in ['note_on', 'note_off']:\n",
    "                timesteps.append(msg.time)\n",
    "                if msg.time>=thres_dt:\n",
    "                    under = False\n",
    "    if under:\n",
    "        n_under_thres += 1\n",
    "                \n",
    "    \n",
    "    tempos.append(tpb)"
   ]
  },
  {
   "cell_type": "code",
   "execution_count": 8,
   "metadata": {
    "hidden": true
   },
   "outputs": [
    {
     "data": {
      "image/png": "[encoded data removed]",
      "text/plain": [
       "<Figure size 432x288 with 1 Axes>"
      ]
     },
     "metadata": {
      "needs_background": "light"
     },
     "output_type": "display_data"
    }
   ],
   "source": [
    "plt.hist(tempos, 100);"
   ]
  },
  {
   "cell_type": "code",
   "execution_count": 9,
   "metadata": {
    "hidden": true
   },
   "outputs": [
    {
     "data": {
      "image/png": "[encoded data removed]",
      "text/plain": [
       "<Figure size 432x288 with 1 Axes>"
      ]
     },
     "metadata": {
      "needs_background": "light"
     },
     "output_type": "display_data"
    }
   ],
   "source": [
    "plt.hist(timesteps, 100, log=1);"
   ]
  },
  {
   "cell_type": "code",
   "execution_count": 10,
   "metadata": {
    "hidden": true
   },
   "outputs": [
    {
     "name": "stdout",
     "output_type": "stream",
     "text": [
      "number of selected files = 126\n"
     ]
    }
   ],
   "source": [
    "print(f'number of selected files = {n_under_thres}')"
   ]
  },
  {
   "cell_type": "markdown",
   "metadata": {
    "heading_collapsed": true
   },
   "source": [
    "## generate seq data for training"
   ]
  },
  {
   "cell_type": "markdown",
   "metadata": {
    "hidden": true
   },
   "source": [
    "Simpest approach - all midi notes treated as is, i.e. we have On and Off signals"
   ]
  },
  {
   "cell_type": "code",
   "execution_count": 11,
   "metadata": {
    "hidden": true
   },
   "outputs": [],
   "source": [
    "def midi_to_seq(mid):\n",
    "    bufs = []\n",
    "    idx_map={'note_on':1, 'note_off':0}\n",
    "    for i, track in enumerate(mid.tracks):\n",
    "        for msg in track:\n",
    "            if msg.type in ['note_on', 'note_off']:\n",
    "                buf = np.zeros(132) # on/off, 128 notes, velocity normd value & time normed value \n",
    "                \n",
    "                buf[idx_map[msg.type]] = 1.\n",
    "                buf[msg.note+2] = 1.\n",
    "                buf[130] = msg.velocity/128\n",
    "                buf[131] = msg.time/256\n",
    "                \n",
    "                bufs.append(buf)\n",
    "    return np.array(bufs)"
   ]
  },
  {
   "cell_type": "code",
   "execution_count": 13,
   "metadata": {
    "deletable": false,
    "editable": false,
    "hidden": true,
    "run_control": {
     "frozen": true
    }
   },
   "outputs": [],
   "source": [
    "# save image of a melody for visual inspection\n",
    "f = sel_files[0]\n",
    "mid = mido.MidiFile(f)\n",
    "b = midi_to_seq(mid)\n",
    "\n",
    "plt.imsave('b.png', b)"
   ]
  },
  {
   "cell_type": "code",
   "execution_count": 164,
   "metadata": {
    "hidden": true
   },
   "outputs": [],
   "source": [
    "for i, f in enumerate(sel_files):\n",
    "    try:\n",
    "        mid = mido.MidiFile(f)\n",
    "    except:\n",
    "        pass\n",
    "        \n",
    "    b = midi_to_seq(mid)\n",
    "    np.save(f'midi_data\\{i:03d}.npy', b)"
   ]
  },
  {
   "cell_type": "markdown",
   "metadata": {},
   "source": [
    "## read in samples generated by trained model and export midi"
   ]
  },
  {
   "cell_type": "code",
   "execution_count": 2,
   "metadata": {
    "code_folding": [
     0
    ]
   },
   "outputs": [],
   "source": [
    "def SaveSeqMidi(seq, filename):\n",
    "    types = ['note_off', 'note_on']\n",
    "    midg = mido.MidiFile()\n",
    "    midg.ticks_per_beat = 70\n",
    "    track = mido.MidiTrack()\n",
    "    midg.tracks.append(track)\n",
    "\n",
    "    for m in seq:\n",
    "        tp_1h = m[:2]\n",
    "        note_1h = m[2:130]\n",
    "        vel_f = m[130]\n",
    "        time_f = m[131]\n",
    "        \n",
    "        tp_idx = np.argmax(tp_1h)\n",
    "        tp = types[tp_idx]\n",
    "        \n",
    "        note = np.argmax(note_1h)\n",
    "        \n",
    "        vel = int(vel_f * 128)\n",
    "        \n",
    "        time = int(time_f * 256)\n",
    "        msg = mido.Message(tp, note=note, velocity=vel, time=time)\n",
    "\n",
    "        track.append(msg)\n",
    "\n",
    "    midg.save(filename)"
   ]
  },
  {
   "cell_type": "code",
   "execution_count": 3,
   "metadata": {},
   "outputs": [
    {
     "name": "stdout",
     "output_type": "stream",
     "text": [
      "(6, 4608, 132)\n"
     ]
    }
   ],
   "source": [
    "gen_samples = np.load('6_samples.npy')\n",
    "print(gen_samples.shape)"
   ]
  },
  {
   "cell_type": "code",
   "execution_count": 17,
   "metadata": {
    "code_folding": [
     0
    ],
    "collapsed": true,
    "deletable": false,
    "editable": false,
    "run_control": {
     "frozen": true
    }
   },
   "outputs": [
    {
     "data": {
      "image/png": "[encoded data removed]",
      "text/plain": [
       "<Figure size 432x288 with 1 Axes>"
      ]
     },
     "metadata": {
      "needs_background": "light"
     },
     "output_type": "display_data"
    },
    {
     "data": {
      "image/png": "[encoded data removed]",
      "text/plain": [
       "<Figure size 432x288 with 1 Axes>"
      ]
     },
     "metadata": {
      "needs_background": "light"
     },
     "output_type": "display_data"
    }
   ],
   "source": [
    "# inspection of data\n",
    "plt.hist(gen_samples[..., -1].flatten()*256, 100, log=1);\n",
    "plt.title('dt, ms')\n",
    "plt.show()\n",
    "\n",
    "plt.hist(gen_samples[..., -2].flatten()*128, 100, log=1);\n",
    "plt.title('velocity')\n",
    "plt.show()"
   ]
  },
  {
   "cell_type": "code",
   "execution_count": 4,
   "metadata": {},
   "outputs": [],
   "source": [
    "# convert to midi\n",
    "n_inp = 512\n",
    "for i, gs in enumerate(gen_samples):\n",
    "    SaveSeqMidi(gs, f'{i}_gen_all.mid')\n",
    "    SaveSeqMidi(gs[:n_inp], f'{i}_gen_src.mid')\n",
    "    SaveSeqMidi(gs[n_inp:], f'{i}_gen_tgt.mid')\n",
    "    "
   ]
  },
  {
   "cell_type": "code",
   "execution_count": null,
   "metadata": {},
   "outputs": [],
   "source": []
  }
 ],
 "metadata": {
  "kernelspec": {
   "display_name": "Python 3",
   "language": "python",
   "name": "python3"
  },
  "language_info": {
   "codemirror_mode": {
    "name": "ipython",
    "version": 3
   },
   "file_extension": ".py",
   "mimetype": "text/x-python",
   "name": "python",
   "nbconvert_exporter": "python",
   "pygments_lexer": "ipython3",
   "version": "3.7.9"
  }
 },
 "nbformat": 4,
 "nbformat_minor": 4
}
